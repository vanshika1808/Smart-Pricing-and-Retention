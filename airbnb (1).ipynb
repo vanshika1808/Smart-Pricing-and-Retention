{
 "cells": [
  {
   "cell_type": "markdown",
   "id": "2280eb6e-4269-46f5-a3ff-5988b731a4c8",
   "metadata": {},
   "source": [
    "<h3 style=\"color:darkblue;\">Airbnb Price Prediction and Insights</h3>\n"
   ]
  },
  {
   "cell_type": "code",
   "execution_count": 2,
   "id": "41a71ef1-e367-464d-a80f-925a37434d5d",
   "metadata": {},
   "outputs": [],
   "source": [
    "import pandas as pd\n",
    "import matplotlib.pyplot as plt\n",
    "import numpy as np\n",
    "import seaborn as sns"
   ]
  },
  {
   "cell_type": "code",
   "execution_count": 3,
   "id": "9477e728-03f5-4525-b219-62cfc4adec72",
   "metadata": {},
   "outputs": [],
   "source": [
    "df = pd.read_csv('C:/Users/vansh/OneDrive/Documents/Airbnb_data.csv')"
   ]
  },
  {
   "cell_type": "code",
   "execution_count": 4,
   "id": "e4be2ceb-76f7-49c3-a650-5c0364d7b990",
   "metadata": {},
   "outputs": [],
   "source": [
    "# exploring the dataset"
   ]
  },
  {
   "cell_type": "code",
   "execution_count": 5,
   "id": "cb623445-c5b3-400b-a337-4b0600442d06",
   "metadata": {},
   "outputs": [
    {
     "name": "stdout",
     "output_type": "stream",
     "text": [
      "         id  log_price property_type        room_type  \\\n",
      "0   6901257   5.010635     Apartment  Entire home/apt   \n",
      "1   6304928   5.129899     Apartment  Entire home/apt   \n",
      "2   7919400   4.976734     Apartment  Entire home/apt   \n",
      "3  13418779   6.620073         House  Entire home/apt   \n",
      "4   3808709   4.744932     Apartment  Entire home/apt   \n",
      "\n",
      "                                           amenities  accommodates  bathrooms  \\\n",
      "0  {\"Wireless Internet\",\"Air conditioning\",Kitche...             3        1.0   \n",
      "1  {\"Wireless Internet\",\"Air conditioning\",Kitche...             7        1.0   \n",
      "2  {TV,\"Cable TV\",\"Wireless Internet\",\"Air condit...             5        1.0   \n",
      "3  {TV,\"Cable TV\",Internet,\"Wireless Internet\",Ki...             4        1.0   \n",
      "4  {TV,Internet,\"Wireless Internet\",\"Air conditio...             2        1.0   \n",
      "\n",
      "   bed_type cancellation_policy  cleaning_fee  ...   latitude   longitude  \\\n",
      "0  Real Bed              strict          True  ...  40.696524  -73.991617   \n",
      "1  Real Bed              strict          True  ...  40.766115  -73.989040   \n",
      "2  Real Bed            moderate          True  ...  40.808110  -73.943756   \n",
      "3  Real Bed            flexible          True  ...  37.772004 -122.431619   \n",
      "4  Real Bed            moderate          True  ...  38.925627  -77.034596   \n",
      "\n",
      "                                       name     neighbourhood  \\\n",
      "0            Beautiful brownstone 1-bedroom  Brooklyn Heights   \n",
      "1  Superb 3BR Apt Located Near Times Square    Hell's Kitchen   \n",
      "2                          The Garden Oasis            Harlem   \n",
      "3        Beautiful Flat in the Heart of SF!      Lower Haight   \n",
      "4                Great studio in midtown DC  Columbia Heights   \n",
      "\n",
      "  number_of_reviews review_scores_rating  \\\n",
      "0                 2                100.0   \n",
      "1                 6                 93.0   \n",
      "2                10                 92.0   \n",
      "3                 0                  NaN   \n",
      "4                 4                 40.0   \n",
      "\n",
      "                                       thumbnail_url zipcode bedrooms  beds  \n",
      "0  https://a0.muscache.com/im/pictures/6d7cbbf7-c...   11201      1.0   1.0  \n",
      "1  https://a0.muscache.com/im/pictures/348a55fe-4...   10019      3.0   3.0  \n",
      "2  https://a0.muscache.com/im/pictures/6fae5362-9...   10027      1.0   3.0  \n",
      "3  https://a0.muscache.com/im/pictures/72208dad-9...   94117      2.0   2.0  \n",
      "4                                                NaN   20009      0.0   1.0  \n",
      "\n",
      "[5 rows x 29 columns]\n"
     ]
    }
   ],
   "source": [
    "print(df.head(5))"
   ]
  },
  {
   "cell_type": "code",
   "execution_count": 6,
   "id": "bdf38cc4-9441-4df7-a245-ee0a55e5b26b",
   "metadata": {},
   "outputs": [
    {
     "name": "stdout",
     "output_type": "stream",
     "text": [
      "<class 'pandas.core.frame.DataFrame'>\n",
      "RangeIndex: 74111 entries, 0 to 74110\n",
      "Data columns (total 29 columns):\n",
      " #   Column                  Non-Null Count  Dtype  \n",
      "---  ------                  --------------  -----  \n",
      " 0   id                      74111 non-null  int64  \n",
      " 1   log_price               74111 non-null  float64\n",
      " 2   property_type           74111 non-null  object \n",
      " 3   room_type               74111 non-null  object \n",
      " 4   amenities               74111 non-null  object \n",
      " 5   accommodates            74111 non-null  int64  \n",
      " 6   bathrooms               73911 non-null  float64\n",
      " 7   bed_type                74111 non-null  object \n",
      " 8   cancellation_policy     74111 non-null  object \n",
      " 9   cleaning_fee            74111 non-null  bool   \n",
      " 10  city                    74111 non-null  object \n",
      " 11  description             74111 non-null  object \n",
      " 12  first_review            58247 non-null  object \n",
      " 13  host_has_profile_pic    73923 non-null  object \n",
      " 14  host_identity_verified  73923 non-null  object \n",
      " 15  host_response_rate      55812 non-null  object \n",
      " 16  host_since              73923 non-null  object \n",
      " 17  instant_bookable        74111 non-null  object \n",
      " 18  last_review             58284 non-null  object \n",
      " 19  latitude                74111 non-null  float64\n",
      " 20  longitude               74111 non-null  float64\n",
      " 21  name                    74111 non-null  object \n",
      " 22  neighbourhood           67239 non-null  object \n",
      " 23  number_of_reviews       74111 non-null  int64  \n",
      " 24  review_scores_rating    57389 non-null  float64\n",
      " 25  thumbnail_url           65895 non-null  object \n",
      " 26  zipcode                 73143 non-null  object \n",
      " 27  bedrooms                74020 non-null  float64\n",
      " 28  beds                    73980 non-null  float64\n",
      "dtypes: bool(1), float64(7), int64(3), object(18)\n",
      "memory usage: 15.9+ MB\n"
     ]
    }
   ],
   "source": [
    "df.info()"
   ]
  },
  {
   "cell_type": "code",
   "execution_count": 7,
   "id": "7de37043-575b-4fcc-8aa6-cf228ec93d43",
   "metadata": {},
   "outputs": [
    {
     "data": {
      "text/html": [
       "<div>\n",
       "<style scoped>\n",
       "    .dataframe tbody tr th:only-of-type {\n",
       "        vertical-align: middle;\n",
       "    }\n",
       "\n",
       "    .dataframe tbody tr th {\n",
       "        vertical-align: top;\n",
       "    }\n",
       "\n",
       "    .dataframe thead th {\n",
       "        text-align: right;\n",
       "    }\n",
       "</style>\n",
       "<table border=\"1\" class=\"dataframe\">\n",
       "  <thead>\n",
       "    <tr style=\"text-align: right;\">\n",
       "      <th></th>\n",
       "      <th>id</th>\n",
       "      <th>log_price</th>\n",
       "      <th>accommodates</th>\n",
       "      <th>bathrooms</th>\n",
       "      <th>latitude</th>\n",
       "      <th>longitude</th>\n",
       "      <th>number_of_reviews</th>\n",
       "      <th>review_scores_rating</th>\n",
       "      <th>bedrooms</th>\n",
       "      <th>beds</th>\n",
       "    </tr>\n",
       "  </thead>\n",
       "  <tbody>\n",
       "    <tr>\n",
       "      <th>count</th>\n",
       "      <td>7.411100e+04</td>\n",
       "      <td>74111.000000</td>\n",
       "      <td>74111.000000</td>\n",
       "      <td>73911.000000</td>\n",
       "      <td>74111.000000</td>\n",
       "      <td>74111.000000</td>\n",
       "      <td>74111.000000</td>\n",
       "      <td>57389.000000</td>\n",
       "      <td>74020.000000</td>\n",
       "      <td>73980.000000</td>\n",
       "    </tr>\n",
       "    <tr>\n",
       "      <th>mean</th>\n",
       "      <td>1.126662e+07</td>\n",
       "      <td>4.782069</td>\n",
       "      <td>3.155146</td>\n",
       "      <td>1.235263</td>\n",
       "      <td>38.445958</td>\n",
       "      <td>-92.397525</td>\n",
       "      <td>20.900568</td>\n",
       "      <td>94.067365</td>\n",
       "      <td>1.265793</td>\n",
       "      <td>1.710868</td>\n",
       "    </tr>\n",
       "    <tr>\n",
       "      <th>std</th>\n",
       "      <td>6.081735e+06</td>\n",
       "      <td>0.717394</td>\n",
       "      <td>2.153589</td>\n",
       "      <td>0.582044</td>\n",
       "      <td>3.080167</td>\n",
       "      <td>21.705322</td>\n",
       "      <td>37.828641</td>\n",
       "      <td>7.836556</td>\n",
       "      <td>0.852143</td>\n",
       "      <td>1.254142</td>\n",
       "    </tr>\n",
       "    <tr>\n",
       "      <th>min</th>\n",
       "      <td>3.440000e+02</td>\n",
       "      <td>0.000000</td>\n",
       "      <td>1.000000</td>\n",
       "      <td>0.000000</td>\n",
       "      <td>33.338905</td>\n",
       "      <td>-122.511500</td>\n",
       "      <td>0.000000</td>\n",
       "      <td>20.000000</td>\n",
       "      <td>0.000000</td>\n",
       "      <td>0.000000</td>\n",
       "    </tr>\n",
       "    <tr>\n",
       "      <th>25%</th>\n",
       "      <td>6.261964e+06</td>\n",
       "      <td>4.317488</td>\n",
       "      <td>2.000000</td>\n",
       "      <td>1.000000</td>\n",
       "      <td>34.127908</td>\n",
       "      <td>-118.342374</td>\n",
       "      <td>1.000000</td>\n",
       "      <td>92.000000</td>\n",
       "      <td>1.000000</td>\n",
       "      <td>1.000000</td>\n",
       "    </tr>\n",
       "    <tr>\n",
       "      <th>50%</th>\n",
       "      <td>1.225415e+07</td>\n",
       "      <td>4.709530</td>\n",
       "      <td>2.000000</td>\n",
       "      <td>1.000000</td>\n",
       "      <td>40.662138</td>\n",
       "      <td>-76.996965</td>\n",
       "      <td>6.000000</td>\n",
       "      <td>96.000000</td>\n",
       "      <td>1.000000</td>\n",
       "      <td>1.000000</td>\n",
       "    </tr>\n",
       "    <tr>\n",
       "      <th>75%</th>\n",
       "      <td>1.640226e+07</td>\n",
       "      <td>5.220356</td>\n",
       "      <td>4.000000</td>\n",
       "      <td>1.000000</td>\n",
       "      <td>40.746096</td>\n",
       "      <td>-73.954660</td>\n",
       "      <td>23.000000</td>\n",
       "      <td>100.000000</td>\n",
       "      <td>1.000000</td>\n",
       "      <td>2.000000</td>\n",
       "    </tr>\n",
       "    <tr>\n",
       "      <th>max</th>\n",
       "      <td>2.123090e+07</td>\n",
       "      <td>7.600402</td>\n",
       "      <td>16.000000</td>\n",
       "      <td>8.000000</td>\n",
       "      <td>42.390437</td>\n",
       "      <td>-70.985047</td>\n",
       "      <td>605.000000</td>\n",
       "      <td>100.000000</td>\n",
       "      <td>10.000000</td>\n",
       "      <td>18.000000</td>\n",
       "    </tr>\n",
       "  </tbody>\n",
       "</table>\n",
       "</div>"
      ],
      "text/plain": [
       "                 id     log_price  accommodates     bathrooms      latitude  \\\n",
       "count  7.411100e+04  74111.000000  74111.000000  73911.000000  74111.000000   \n",
       "mean   1.126662e+07      4.782069      3.155146      1.235263     38.445958   \n",
       "std    6.081735e+06      0.717394      2.153589      0.582044      3.080167   \n",
       "min    3.440000e+02      0.000000      1.000000      0.000000     33.338905   \n",
       "25%    6.261964e+06      4.317488      2.000000      1.000000     34.127908   \n",
       "50%    1.225415e+07      4.709530      2.000000      1.000000     40.662138   \n",
       "75%    1.640226e+07      5.220356      4.000000      1.000000     40.746096   \n",
       "max    2.123090e+07      7.600402     16.000000      8.000000     42.390437   \n",
       "\n",
       "          longitude  number_of_reviews  review_scores_rating      bedrooms  \\\n",
       "count  74111.000000       74111.000000          57389.000000  74020.000000   \n",
       "mean     -92.397525          20.900568             94.067365      1.265793   \n",
       "std       21.705322          37.828641              7.836556      0.852143   \n",
       "min     -122.511500           0.000000             20.000000      0.000000   \n",
       "25%     -118.342374           1.000000             92.000000      1.000000   \n",
       "50%      -76.996965           6.000000             96.000000      1.000000   \n",
       "75%      -73.954660          23.000000            100.000000      1.000000   \n",
       "max      -70.985047         605.000000            100.000000     10.000000   \n",
       "\n",
       "               beds  \n",
       "count  73980.000000  \n",
       "mean       1.710868  \n",
       "std        1.254142  \n",
       "min        0.000000  \n",
       "25%        1.000000  \n",
       "50%        1.000000  \n",
       "75%        2.000000  \n",
       "max       18.000000  "
      ]
     },
     "execution_count": 7,
     "metadata": {},
     "output_type": "execute_result"
    }
   ],
   "source": [
    "df.describe()"
   ]
  },
  {
   "cell_type": "code",
   "execution_count": null,
   "id": "024402ba-11e0-424c-a465-45451548985f",
   "metadata": {},
   "outputs": [],
   "source": [
    "# handling missing values."
   ]
  },
  {
   "cell_type": "code",
   "execution_count": 8,
   "id": "b17c84a6-4425-433c-8aec-e7378f2cd6b8",
   "metadata": {},
   "outputs": [
    {
     "data": {
      "text/plain": [
       "id                            0\n",
       "log_price                     0\n",
       "property_type                 0\n",
       "room_type                     0\n",
       "amenities                     0\n",
       "accommodates                  0\n",
       "bathrooms                   200\n",
       "bed_type                      0\n",
       "cancellation_policy           0\n",
       "cleaning_fee                  0\n",
       "city                          0\n",
       "description                   0\n",
       "first_review              15864\n",
       "host_has_profile_pic        188\n",
       "host_identity_verified      188\n",
       "host_response_rate        18299\n",
       "host_since                  188\n",
       "instant_bookable              0\n",
       "last_review               15827\n",
       "latitude                      0\n",
       "longitude                     0\n",
       "name                          0\n",
       "neighbourhood              6872\n",
       "number_of_reviews             0\n",
       "review_scores_rating      16722\n",
       "thumbnail_url              8216\n",
       "zipcode                     968\n",
       "bedrooms                     91\n",
       "beds                        131\n",
       "dtype: int64"
      ]
     },
     "execution_count": 8,
     "metadata": {},
     "output_type": "execute_result"
    }
   ],
   "source": [
    "df.isnull().sum()"
   ]
  },
  {
   "cell_type": "code",
   "execution_count": 9,
   "id": "85cb5783-f3f9-40b2-8b5d-bfb45805e79c",
   "metadata": {},
   "outputs": [
    {
     "name": "stdout",
     "output_type": "stream",
     "text": [
      "(74111, 29)\n"
     ]
    }
   ],
   "source": [
    "print(df.shape)"
   ]
  },
  {
   "cell_type": "code",
   "execution_count": 10,
   "id": "68c088f0-ec16-4abf-beeb-0b6ce125186d",
   "metadata": {},
   "outputs": [],
   "source": [
    "df.drop(columns=['first_review', 'host_response_rate', 'last_review', 'review_scores_rating'],inplace=True)"
   ]
  },
  {
   "cell_type": "code",
   "execution_count": 11,
   "id": "ebd431fa-fd1c-4730-a565-18192059fcd8",
   "metadata": {},
   "outputs": [
    {
     "data": {
      "text/plain": [
       "id                           0\n",
       "log_price                    0\n",
       "property_type                0\n",
       "room_type                    0\n",
       "amenities                    0\n",
       "accommodates                 0\n",
       "bathrooms                  200\n",
       "bed_type                     0\n",
       "cancellation_policy          0\n",
       "cleaning_fee                 0\n",
       "city                         0\n",
       "description                  0\n",
       "host_has_profile_pic       188\n",
       "host_identity_verified     188\n",
       "host_since                 188\n",
       "instant_bookable             0\n",
       "latitude                     0\n",
       "longitude                    0\n",
       "name                         0\n",
       "neighbourhood             6872\n",
       "number_of_reviews            0\n",
       "thumbnail_url             8216\n",
       "zipcode                    968\n",
       "bedrooms                    91\n",
       "beds                       131\n",
       "dtype: int64"
      ]
     },
     "execution_count": 11,
     "metadata": {},
     "output_type": "execute_result"
    }
   ],
   "source": [
    "df.isnull().sum()"
   ]
  },
  {
   "cell_type": "code",
   "execution_count": 4,
   "id": "213b43b3-43ba-4f65-a03c-6214e3654c65",
   "metadata": {},
   "outputs": [],
   "source": [
    "df['bathrooms'] = df['bathrooms'].fillna(df['bathrooms'].median())\n",
    "df['bedrooms'] = df['bedrooms'].fillna(df['bedrooms'].median())\n",
    "df['beds'] = df['beds'].fillna(df['beds'].median())"
   ]
  },
  {
   "cell_type": "code",
   "execution_count": 6,
   "id": "bd51e7ee-5c92-40cf-8987-1c9087e35b10",
   "metadata": {},
   "outputs": [],
   "source": [
    "df['zipcode'] = df['zipcode'].fillna(df['zipcode'].mode()[0])\n",
    "df['neighbourhood'] = df['neighbourhood'].fillna('Unknown')\n",
    "df['host_since'] = df['host_since'].ffill()\n",
    "df['host_has_profile_pic'] = df['host_has_profile_pic'].fillna(df['host_has_profile_pic'].mode()[0])\n",
    "df['host_identity_verified'] = df['host_identity_verified'].fillna(df['host_identity_verified'].mode()[0])\n",
    "df['thumbnail_url'] = df['thumbnail_url'].fillna('No Image')"
   ]
  },
  {
   "cell_type": "code",
   "execution_count": 14,
   "id": "79619ae3-73a3-447f-8c22-189fc1f23889",
   "metadata": {},
   "outputs": [
    {
     "data": {
      "text/plain": [
       "id                        0\n",
       "log_price                 0\n",
       "property_type             0\n",
       "room_type                 0\n",
       "amenities                 0\n",
       "accommodates              0\n",
       "bathrooms                 0\n",
       "bed_type                  0\n",
       "cancellation_policy       0\n",
       "cleaning_fee              0\n",
       "city                      0\n",
       "description               0\n",
       "host_has_profile_pic      0\n",
       "host_identity_verified    0\n",
       "host_since                0\n",
       "instant_bookable          0\n",
       "latitude                  0\n",
       "longitude                 0\n",
       "name                      0\n",
       "neighbourhood             0\n",
       "number_of_reviews         0\n",
       "thumbnail_url             0\n",
       "zipcode                   0\n",
       "bedrooms                  0\n",
       "beds                      0\n",
       "dtype: int64"
      ]
     },
     "execution_count": 14,
     "metadata": {},
     "output_type": "execute_result"
    }
   ],
   "source": [
    "df.isnull().sum()"
   ]
  },
  {
   "cell_type": "code",
   "execution_count": null,
   "id": "a012e3b9-f5bf-41fd-bc2a-51c07e9740be",
   "metadata": {},
   "outputs": [],
   "source": [
    "# detecting and handling outliers."
   ]
  },
  {
   "cell_type": "code",
   "execution_count": 15,
   "id": "fe77f287-c7a4-48ac-90e5-39cb330dddfc",
   "metadata": {},
   "outputs": [
    {
     "data": {
      "text/plain": [
       "Index(['id', 'log_price', 'property_type', 'room_type', 'amenities',\n",
       "       'accommodates', 'bathrooms', 'bed_type', 'cancellation_policy',\n",
       "       'cleaning_fee', 'city', 'description', 'host_has_profile_pic',\n",
       "       'host_identity_verified', 'host_since', 'instant_bookable', 'latitude',\n",
       "       'longitude', 'name', 'neighbourhood', 'number_of_reviews',\n",
       "       'thumbnail_url', 'zipcode', 'bedrooms', 'beds'],\n",
       "      dtype='object')"
      ]
     },
     "execution_count": 15,
     "metadata": {},
     "output_type": "execute_result"
    }
   ],
   "source": [
    "df.columns"
   ]
  },
  {
   "cell_type": "code",
   "execution_count": 16,
   "id": "18045175-29df-4a08-8cde-07ba9070ae3e",
   "metadata": {},
   "outputs": [
    {
     "data": {
      "image/png": "[encoded data removed]",
      "text/plain": [
       "<Figure size 1000x500 with 1 Axes>"
      ]
     },
     "metadata": {},
     "output_type": "display_data"
    }
   ],
   "source": [
    "plt.figure(figsize=(10,5))\n",
    "sns.boxplot(x=df['log_price'])\n",
    "plt.title(\"Boxplot of log_price\")\n",
    "plt.show()"
   ]
  },
  {
   "cell_type": "code",
   "execution_count": 17,
   "id": "6e8b8cf3-bfa6-4d79-95ac-6beab04064d4",
   "metadata": {},
   "outputs": [],
   "source": [
    "Q1=df['log_price'].quantile(0.25)\n",
    "Q3=df['log_price'].quantile(0.75)\n",
    "IQR=Q3-Q1\n",
    "lower_bound=Q1-1.5*IQR\n",
    "upper_bound=Q3+1.5*IQR\n",
    "df=df[(df['log_price']>=lower_bound) & (df['log_price']<=upper_bound)]"
   ]
  },
  {
   "cell_type": "code",
   "execution_count": 18,
   "id": "91ae24c3-cef6-44e4-b1e1-5e3b74f52c9c",
   "metadata": {},
   "outputs": [
    {
     "data": {
      "image/png": "[encoded data removed]",
      "text/plain": [
       "<Figure size 1000x500 with 1 Axes>"
      ]
     },
     "metadata": {},
     "output_type": "display_data"
    },
    {
     "name": "stdout",
     "output_type": "stream",
     "text": [
      "count    72579.000000\n",
      "mean         4.746079\n",
      "std          0.652274\n",
      "min          2.995732\n",
      "25%          4.304065\n",
      "50%          4.700480\n",
      "75%          5.187386\n",
      "max          6.572283\n",
      "Name: log_price, dtype: float64\n"
     ]
    }
   ],
   "source": [
    "plt.figure(figsize=(10,5))\n",
    "sns.boxplot(x=df['log_price'])\n",
    "plt.title(\"Boxplot of log_price after outlier removal\")\n",
    "plt.show()\n",
    "print(df['log_price'].describe())"
   ]
  },
  {
   "cell_type": "code",
   "execution_count": 8,
   "id": "434b0f58-92e9-48ae-92dd-acae2cd82098",
   "metadata": {},
   "outputs": [
    {
     "data": {
      "image/png": "[encoded data removed]",
      "text/plain": [
       "<Figure size 800x500 with 1 Axes>"
      ]
     },
     "metadata": {},
     "output_type": "display_data"
    }
   ],
   "source": [
    "room_price = df.groupby('room_type')['log_price'].mean().sort_values(ascending=False)\n",
    "\n",
    "plt.figure(figsize=(8,5))\n",
    "sns.barplot(x=room_price.index, y=room_price.values, hue=room_price.index, palette='viridis', legend=False)\n",
    "plt.title('Average Log Price by Room Type')\n",
    "plt.xlabel('Room Type')\n",
    "plt.ylabel('Average Log Price')\n",
    "plt.tight_layout()\n",
    "plt.show()"
   ]
  },
  {
   "cell_type": "markdown",
   "id": "61e067e4-6641-4e69-93e9-76f260b25368",
   "metadata": {},
   "source": [
    "Insights from Room Type Pricing\n",
    "- Entire homes/apartments command the highest average price, indicating guests are willing to pay more for privacy and full-space access.\n",
    "- Private rooms offer a balance of affordability and privacy, making them a popular mid-tier choice.\n",
    "- Shared rooms are the most economical option, reflecting minimal privacy and shared space usage."
   ]
  },
  {
   "cell_type": "code",
   "execution_count": 12,
   "id": "2f4744d6-524b-46b6-81ed-c8bc41793517",
   "metadata": {},
   "outputs": [
    {
     "data": {
      "image/png": "[encoded data removed]",
      "text/plain": [
       "<Figure size 640x480 with 1 Axes>"
      ]
     },
     "metadata": {},
     "output_type": "display_data"
    }
   ],
   "source": [
    "df['host_since'] = pd.to_datetime(df['host_since'], dayfirst=True)\n",
    "df['year'] = df['host_since'].dt.year\n",
    "yearly_avg_price = df.groupby('year')['log_price'].mean()\n",
    "\n",
    "yearly_avg_price.plot(kind='line', marker='o')\n",
    "plt.title('Average Log Price Over Years')\n",
    "plt.xlabel('Year')\n",
    "plt.ylabel('Average Log Price')\n",
    "plt.grid(True)\n",
    "plt.show()"
   ]
  },
  {
   "cell_type": "markdown",
   "id": "752a4cc2-d588-49a4-84e9-adeb6431bc87",
   "metadata": {},
   "source": [
    "Insights: Average Log Price Over the Years:\n",
    "From 2008 to 2011, the average log price of Airbnb listings increased,\n",
    "peaking in 2011. However, a steady decline followed, reaching the lowest in 2017.\n",
    "This trend suggests a shift toward more affordable listings or increased competition over time."
   ]
  },
  {
   "cell_type": "code",
   "execution_count": 19,
   "id": "15ba1de4-6808-4246-aca9-efc95eff86d1",
   "metadata": {},
   "outputs": [],
   "source": [
    "# feature engineering:-neighborhood popularity, number of amenities, and host activity metrics."
   ]
  },
  {
   "cell_type": "code",
   "execution_count": 20,
   "id": "56bd2ce4-4070-4807-b6a6-e7922296dca5",
   "metadata": {},
   "outputs": [
    {
     "name": "stdout",
     "output_type": "stream",
     "text": [
      "        neighbourhood  neighbourhood_popularity\n",
      "0    Brooklyn Heights                       108\n",
      "1      Hell's Kitchen                      1283\n",
      "2              Harlem                      1365\n",
      "4    Columbia Heights                       283\n",
      "5          Noe Valley                       304\n",
      "6             Unknown                      6695\n",
      "7            Downtown                       533\n",
      "8   Richmond District                       379\n",
      "9             Unknown                      6695\n",
      "10      Alphabet City                       616\n"
     ]
    }
   ],
   "source": [
    "neighbourhood_count=df['neighbourhood'].value_counts()\n",
    "df['neighbourhood_popularity']=df['neighbourhood'].map(neighbourhood_count)\n",
    "print(df[['neighbourhood', 'neighbourhood_popularity']].head(10))"
   ]
  },
  {
   "cell_type": "code",
   "execution_count": 21,
   "id": "ff8e7273-c758-452e-a456-0e4e3c49deae",
   "metadata": {},
   "outputs": [
    {
     "name": "stdout",
     "output_type": "stream",
     "text": [
      "                                            amenities  num_amenities\n",
      "0   {\"Wireless Internet\",\"Air conditioning\",Kitche...              9\n",
      "1   {\"Wireless Internet\",\"Air conditioning\",Kitche...             15\n",
      "2   {TV,\"Cable TV\",\"Wireless Internet\",\"Air condit...             19\n",
      "4   {TV,Internet,\"Wireless Internet\",\"Air conditio...             12\n",
      "5   {TV,\"Wireless Internet\",Heating,\"Smoke detecto...             10\n",
      "6   {TV,Internet,\"Wireless Internet\",\"Air conditio...             21\n",
      "7   {TV,\"Cable TV\",\"Wireless Internet\",\"Wheelchair...             26\n",
      "8   {TV,\"Cable TV\",\"Wireless Internet\",\"Pets live ...             21\n",
      "9   {\"Wireless Internet\",\"Air conditioning\",Kitche...             13\n",
      "10  {Internet,\"Wireless Internet\",\"Air conditionin...             15\n"
     ]
    }
   ],
   "source": [
    "df['num_amenities'] = df['amenities'].str.count(',') + 1\n",
    "print(df[['amenities', 'num_amenities']].head(10))"
   ]
  },
  {
   "cell_type": "code",
   "execution_count": 22,
   "id": "75b6ea04-6ccc-4c1f-803d-99f9ad5ad4cf",
   "metadata": {},
   "outputs": [],
   "source": [
    "df['host_identity_verified'] = df['host_identity_verified'].map({'t': 1, 'f': 0})\n",
    "df['host_has_profile_pic'] = df['host_has_profile_pic'].map({'t': 1, 'f': 0})"
   ]
  },
  {
   "cell_type": "code",
   "execution_count": 27,
   "id": "90c7afe2-99b4-458a-9b17-5099b55f3b02",
   "metadata": {},
   "outputs": [
    {
     "name": "stderr",
     "output_type": "stream",
     "text": [
      "C:\\Users\\vansh\\AppData\\Local\\Temp\\ipykernel_29492\\1431272606.py:1: UserWarning: Parsing dates in %d-%m-%Y format when dayfirst=False (the default) was specified. Pass `dayfirst=True` or specify a format to silence this warning.\n",
      "  df['host_since'] = pd.to_datetime(df['host_since'], errors='coerce')\n"
     ]
    }
   ],
   "source": [
    "df['host_since'] = pd.to_datetime(df['host_since'], errors='coerce')\n",
    "df['host_experience_years'] = 2025 - df['host_since'].dt.year\n",
    "df['host_experience_years'] = df['host_experience_years'].fillna(0)"
   ]
  },
  {
   "cell_type": "code",
   "execution_count": 28,
   "id": "22dc7868-6610-443d-826d-7b399eeb6108",
   "metadata": {},
   "outputs": [],
   "source": [
    "host_activity_features = [\n",
    "    'host_identity_verified',\n",
    "    'host_has_profile_pic',\n",
    "    'host_experience_years'\n",
    "]"
   ]
  },
  {
   "cell_type": "code",
   "execution_count": null,
   "id": "04d1cc5a-952d-48ce-b19b-03141df2c5a5",
   "metadata": {},
   "outputs": [],
   "source": [
    "# transformations."
   ]
  },
  {
   "cell_type": "code",
   "execution_count": null,
   "id": "4323750c-1dce-4367-a00f-5a58f1ba77bc",
   "metadata": {},
   "outputs": [],
   "source": [
    "#one hot encoding."
   ]
  },
  {
   "cell_type": "code",
   "execution_count": 29,
   "id": "a0788da0-abc3-4f82-9405-6e487f02b3ee",
   "metadata": {},
   "outputs": [],
   "source": [
    "df=pd.get_dummies(df,columns=['room_type','property_type'],drop_first=True)"
   ]
  },
  {
   "cell_type": "code",
   "execution_count": 30,
   "id": "33decc4b-3b89-474f-b66b-fda89edac9c9",
   "metadata": {},
   "outputs": [
    {
     "name": "stdout",
     "output_type": "stream",
     "text": [
      "Index(['id', 'log_price', 'amenities', 'accommodates', 'bathrooms', 'bed_type',\n",
      "       'cancellation_policy', 'cleaning_fee', 'city', 'description',\n",
      "       'host_has_profile_pic', 'host_identity_verified', 'host_since',\n",
      "       'instant_bookable', 'latitude', 'longitude', 'name', 'neighbourhood',\n",
      "       'number_of_reviews', 'thumbnail_url', 'zipcode', 'bedrooms', 'beds',\n",
      "       'neighbourhood_popularity', 'num_amenities', 'host_experience_years',\n",
      "       'room_type_Private room', 'room_type_Shared room',\n",
      "       'property_type_Bed & Breakfast', 'property_type_Boat',\n",
      "       'property_type_Boutique hotel', 'property_type_Bungalow',\n",
      "       'property_type_Cabin', 'property_type_Camper/RV',\n",
      "       'property_type_Casa particular', 'property_type_Castle',\n",
      "       'property_type_Cave', 'property_type_Chalet',\n",
      "       'property_type_Condominium', 'property_type_Dorm',\n",
      "       'property_type_Earth House', 'property_type_Guest suite',\n",
      "       'property_type_Guesthouse', 'property_type_Hostel',\n",
      "       'property_type_House', 'property_type_Hut', 'property_type_In-law',\n",
      "       'property_type_Island', 'property_type_Lighthouse',\n",
      "       'property_type_Loft', 'property_type_Other',\n",
      "       'property_type_Parking Space', 'property_type_Serviced apartment',\n",
      "       'property_type_Tent', 'property_type_Timeshare', 'property_type_Tipi',\n",
      "       'property_type_Townhouse', 'property_type_Train',\n",
      "       'property_type_Treehouse', 'property_type_Vacation home',\n",
      "       'property_type_Villa', 'property_type_Yurt'],\n",
      "      dtype='object')\n"
     ]
    }
   ],
   "source": [
    "print(df.columns)"
   ]
  },
  {
   "cell_type": "code",
   "execution_count": 31,
   "id": "ab7d7099-1ccd-47cf-af2b-816404388e43",
   "metadata": {},
   "outputs": [],
   "source": [
    "from sklearn.model_selection import train_test_split\n",
    "from sklearn.linear_model import LinearRegression\n",
    "from sklearn.ensemble import RandomForestRegressor\n",
    "from sklearn.metrics import mean_squared_error, mean_absolute_error, r2_score"
   ]
  },
  {
   "cell_type": "code",
   "execution_count": 35,
   "id": "80b01e4c-9895-4a08-8d7e-db63232cc63a",
   "metadata": {},
   "outputs": [],
   "source": [
    "feature_cols = [\n",
    "    'number_of_reviews',\n",
    "    'num_amenities',\n",
    "    'host_identity_verified',\n",
    "    'host_has_profile_pic',\n",
    "    'host_experience_years',\n",
    "    'neighbourhood_popularity',\n",
    "    'room_type_Private room',\n",
    "    'room_type_Shared room',\n",
    "    'property_type_Bungalow',\n",
    "    'property_type_House',\n",
    "    'property_type_Hostel'\n",
    "]\n",
    "\n",
    "X = df[feature_cols]\n",
    "y = df['log_price']"
   ]
  },
  {
   "cell_type": "code",
   "execution_count": 36,
   "id": "a36e266b-f377-4ec5-bf2e-7cec2e98e1e8",
   "metadata": {},
   "outputs": [],
   "source": [
    "X_train, X_test, y_train, y_test= train_test_split(X,y, test_size=0.2, random_state=42)"
   ]
  },
  {
   "cell_type": "code",
   "execution_count": 38,
   "id": "896faea7-7332-45f5-942a-0bb5a113d9c0",
   "metadata": {},
   "outputs": [],
   "source": [
    "lr=LinearRegression()\n",
    "lr.fit(X_train,y_train)\n",
    "lr_prd= lr.predict(X_test)"
   ]
  },
  {
   "cell_type": "code",
   "execution_count": 39,
   "id": "c315af71-96b3-4845-8f4e-a2ccb2330f78",
   "metadata": {},
   "outputs": [
    {
     "name": "stdout",
     "output_type": "stream",
     "text": [
      "Linear Regression Results:\n",
      "RMSE: 0.503\n",
      "MAE: 0.394\n",
      "R² Score: 0.408\n"
     ]
    }
   ],
   "source": [
    "lr_rmse = np.sqrt(mean_squared_error(y_test, lr_prd))\n",
    "lr_mae = mean_absolute_error(y_test, lr_prd)\n",
    "lr_r2 = r2_score(y_test, lr_prd)\n",
    "\n",
    "print(\"Linear Regression Results:\")\n",
    "print(f\"RMSE: {lr_rmse:.3f}\")\n",
    "print(f\"MAE: {lr_mae:.3f}\")\n",
    "print(f\"R² Score: {lr_r2:.3f}\")"
   ]
  },
  {
   "cell_type": "code",
   "execution_count": 40,
   "id": "3d023264-b011-43cd-8a81-4c0619d16bf3",
   "metadata": {},
   "outputs": [],
   "source": [
    "rf_model = RandomForestRegressor(random_state=42)\n",
    "rf_model.fit(X_train, y_train)\n",
    "rf_pred = rf_model.predict(X_test)"
   ]
  },
  {
   "cell_type": "code",
   "execution_count": 41,
   "id": "57b8c929-e44e-4fcf-9095-5f637d5f0cc1",
   "metadata": {},
   "outputs": [
    {
     "name": "stdout",
     "output_type": "stream",
     "text": [
      "Random Forest Regressor Results:\n",
      "RMSE: 0.482\n",
      "MAE: 0.368\n",
      "R² Score: 0.459\n"
     ]
    }
   ],
   "source": [
    "rf_rmse = np.sqrt(mean_squared_error(y_test, rf_pred))\n",
    "rf_mae = mean_absolute_error(y_test, rf_pred)\n",
    "rf_r2 = r2_score(y_test, rf_pred)\n",
    "\n",
    "print(\"Random Forest Regressor Results:\")\n",
    "print(f\"RMSE: {rf_rmse:.3f}\")\n",
    "print(f\"MAE: {rf_mae:.3f}\")\n",
    "print(f\"R² Score: {rf_r2:.3f}\")"
   ]
  },
  {
   "cell_type": "markdown",
   "id": "d40031ef-cb3d-4688-8a1b-1b8e04c147fe",
   "metadata": {},
   "source": [
    "<h3 style=\"color:darkblue;\"> Final Conclusion</h3>\n",
    "\n",
    "In this project, i have aimed to build a regression model to predict Airbnb listing prices using various features such as property type, room type, number of reviews, amenities, and host activity metrics. After thorough data preprocessing and feature engineering, i have developed and evaluated two models: Linear Regression and Random Forest Regressor. While Linear Regression provided a basic understanding of the data, the Random Forest Regressor delivered significantly better performance across all evaluation metrics, including RMSE, MAE, and R² Score.\n",
    "<br>\n",
    "Hence, Random Forest Regressor was selected as the final model due to its ability to capture complex, non-linear relationships in the data. This model can be further enhanced by tuning hyperparameters or incorporating more contextual features like seasonal trends or location-based clustering. Overall, the model provides a strong foundation for accurate and data-driven price prediction for Airbnb listings."
   ]
  },
  {
   "cell_type": "code",
   "execution_count": null,
   "id": "52d0c132-de70-4d7c-9e3c-6950da917455",
   "metadata": {},
   "outputs": [],
   "source": []
  },
  {
   "cell_type": "code",
   "execution_count": null,
   "id": "c9c1db2e-3d1b-43f6-b982-7ec6f4ad715e",
   "metadata": {},
   "outputs": [],
   "source": []
  },
  {
   "cell_type": "code",
   "execution_count": null,
   "id": "11cf8caf-57ca-4e36-8039-8256beb744cd",
   "metadata": {},
   "outputs": [],
   "source": []
  }
 ],
 "metadata": {
  "kernelspec": {
   "display_name": "Python [conda env:base] *",
   "language": "python",
   "name": "conda-base-py"
  },
  "language_info": {
   "codemirror_mode": {
    "name": "ipython",
    "version": 3
   },
   "file_extension": ".py",
   "mimetype": "text/x-python",
   "name": "python",
   "nbconvert_exporter": "python",
   "pygments_lexer": "ipython3",
   "version": "3.12.7"
  }
 },
 "nbformat": 4,
 "nbformat_minor": 5
}
