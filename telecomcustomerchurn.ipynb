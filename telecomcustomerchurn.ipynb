{
 "cells": [
  {
   "cell_type": "markdown",
   "id": "a1d2e0d1-8757-4f38-9a91-d4f455f954c4",
   "metadata": {},
   "source": [
    "<h1><strong>Telecom Customer Churn Prediction</strong></h1>"
   ]
  },
  {
   "cell_type": "code",
   "execution_count": 24,
   "id": "680038fa-7e67-4d0a-ac85-e092fc57692a",
   "metadata": {},
   "outputs": [],
   "source": [
    "import pandas as pd\n",
    "import numpy as np\n",
    "import matplotlib.pyplot as plt\n",
    "import seaborn as sns"
   ]
  },
  {
   "cell_type": "code",
   "execution_count": 25,
   "id": "5e621e5f-b2eb-4a49-bf9c-8f5dd6807f55",
   "metadata": {},
   "outputs": [],
   "source": [
    "df = pd.read_excel('C:/Users/vansh/OneDrive/Documents/Customer_data.xlsx')"
   ]
  },
  {
   "cell_type": "code",
   "execution_count": 26,
   "id": "f102d89d-dc8e-4f72-91c2-335a155785f6",
   "metadata": {},
   "outputs": [
    {
     "data": {
      "text/html": [
       "<div>\n",
       "<style scoped>\n",
       "    .dataframe tbody tr th:only-of-type {\n",
       "        vertical-align: middle;\n",
       "    }\n",
       "\n",
       "    .dataframe tbody tr th {\n",
       "        vertical-align: top;\n",
       "    }\n",
       "\n",
       "    .dataframe thead th {\n",
       "        text-align: right;\n",
       "    }\n",
       "</style>\n",
       "<table border=\"1\" class=\"dataframe\">\n",
       "  <thead>\n",
       "    <tr style=\"text-align: right;\">\n",
       "      <th></th>\n",
       "      <th>customerID</th>\n",
       "      <th>gender</th>\n",
       "      <th>SeniorCitizen</th>\n",
       "      <th>Partner</th>\n",
       "      <th>Dependents</th>\n",
       "      <th>tenure</th>\n",
       "      <th>PhoneService</th>\n",
       "      <th>MultipleLines</th>\n",
       "      <th>InternetService</th>\n",
       "      <th>OnlineSecurity</th>\n",
       "      <th>...</th>\n",
       "      <th>DeviceProtection</th>\n",
       "      <th>TechSupport</th>\n",
       "      <th>StreamingTV</th>\n",
       "      <th>StreamingMovies</th>\n",
       "      <th>Contract</th>\n",
       "      <th>PaperlessBilling</th>\n",
       "      <th>PaymentMethod</th>\n",
       "      <th>MonthlyCharges</th>\n",
       "      <th>TotalCharges</th>\n",
       "      <th>Churn</th>\n",
       "    </tr>\n",
       "  </thead>\n",
       "  <tbody>\n",
       "    <tr>\n",
       "      <th>0</th>\n",
       "      <td>7590-VHVEG</td>\n",
       "      <td>Female</td>\n",
       "      <td>0</td>\n",
       "      <td>Yes</td>\n",
       "      <td>No</td>\n",
       "      <td>1</td>\n",
       "      <td>No</td>\n",
       "      <td>No phone service</td>\n",
       "      <td>DSL</td>\n",
       "      <td>No</td>\n",
       "      <td>...</td>\n",
       "      <td>No</td>\n",
       "      <td>No</td>\n",
       "      <td>No</td>\n",
       "      <td>No</td>\n",
       "      <td>Month-to-month</td>\n",
       "      <td>Yes</td>\n",
       "      <td>Electronic check</td>\n",
       "      <td>29.85</td>\n",
       "      <td>29.85</td>\n",
       "      <td>No</td>\n",
       "    </tr>\n",
       "    <tr>\n",
       "      <th>1</th>\n",
       "      <td>5575-GNVDE</td>\n",
       "      <td>Male</td>\n",
       "      <td>0</td>\n",
       "      <td>No</td>\n",
       "      <td>No</td>\n",
       "      <td>34</td>\n",
       "      <td>Yes</td>\n",
       "      <td>No</td>\n",
       "      <td>DSL</td>\n",
       "      <td>Yes</td>\n",
       "      <td>...</td>\n",
       "      <td>Yes</td>\n",
       "      <td>No</td>\n",
       "      <td>No</td>\n",
       "      <td>No</td>\n",
       "      <td>One year</td>\n",
       "      <td>No</td>\n",
       "      <td>Mailed check</td>\n",
       "      <td>56.95</td>\n",
       "      <td>1889.50</td>\n",
       "      <td>No</td>\n",
       "    </tr>\n",
       "    <tr>\n",
       "      <th>2</th>\n",
       "      <td>3668-QPYBK</td>\n",
       "      <td>Male</td>\n",
       "      <td>0</td>\n",
       "      <td>No</td>\n",
       "      <td>No</td>\n",
       "      <td>2</td>\n",
       "      <td>Yes</td>\n",
       "      <td>No</td>\n",
       "      <td>DSL</td>\n",
       "      <td>Yes</td>\n",
       "      <td>...</td>\n",
       "      <td>No</td>\n",
       "      <td>No</td>\n",
       "      <td>No</td>\n",
       "      <td>No</td>\n",
       "      <td>Month-to-month</td>\n",
       "      <td>Yes</td>\n",
       "      <td>Mailed check</td>\n",
       "      <td>53.85</td>\n",
       "      <td>108.15</td>\n",
       "      <td>Yes</td>\n",
       "    </tr>\n",
       "    <tr>\n",
       "      <th>3</th>\n",
       "      <td>7795-CFOCW</td>\n",
       "      <td>Male</td>\n",
       "      <td>0</td>\n",
       "      <td>No</td>\n",
       "      <td>No</td>\n",
       "      <td>45</td>\n",
       "      <td>No</td>\n",
       "      <td>No phone service</td>\n",
       "      <td>DSL</td>\n",
       "      <td>Yes</td>\n",
       "      <td>...</td>\n",
       "      <td>Yes</td>\n",
       "      <td>Yes</td>\n",
       "      <td>No</td>\n",
       "      <td>No</td>\n",
       "      <td>One year</td>\n",
       "      <td>No</td>\n",
       "      <td>Bank transfer (automatic)</td>\n",
       "      <td>42.30</td>\n",
       "      <td>1840.75</td>\n",
       "      <td>No</td>\n",
       "    </tr>\n",
       "    <tr>\n",
       "      <th>4</th>\n",
       "      <td>9237-HQITU</td>\n",
       "      <td>Female</td>\n",
       "      <td>0</td>\n",
       "      <td>No</td>\n",
       "      <td>No</td>\n",
       "      <td>2</td>\n",
       "      <td>Yes</td>\n",
       "      <td>No</td>\n",
       "      <td>Fiber optic</td>\n",
       "      <td>No</td>\n",
       "      <td>...</td>\n",
       "      <td>No</td>\n",
       "      <td>No</td>\n",
       "      <td>No</td>\n",
       "      <td>No</td>\n",
       "      <td>Month-to-month</td>\n",
       "      <td>Yes</td>\n",
       "      <td>Electronic check</td>\n",
       "      <td>70.70</td>\n",
       "      <td>151.65</td>\n",
       "      <td>Yes</td>\n",
       "    </tr>\n",
       "    <tr>\n",
       "      <th>5</th>\n",
       "      <td>9305-CDSKC</td>\n",
       "      <td>Female</td>\n",
       "      <td>0</td>\n",
       "      <td>No</td>\n",
       "      <td>No</td>\n",
       "      <td>8</td>\n",
       "      <td>Yes</td>\n",
       "      <td>Yes</td>\n",
       "      <td>Fiber optic</td>\n",
       "      <td>No</td>\n",
       "      <td>...</td>\n",
       "      <td>Yes</td>\n",
       "      <td>No</td>\n",
       "      <td>Yes</td>\n",
       "      <td>Yes</td>\n",
       "      <td>Month-to-month</td>\n",
       "      <td>Yes</td>\n",
       "      <td>Electronic check</td>\n",
       "      <td>99.65</td>\n",
       "      <td>820.50</td>\n",
       "      <td>Yes</td>\n",
       "    </tr>\n",
       "    <tr>\n",
       "      <th>6</th>\n",
       "      <td>1452-KIOVK</td>\n",
       "      <td>Male</td>\n",
       "      <td>0</td>\n",
       "      <td>No</td>\n",
       "      <td>Yes</td>\n",
       "      <td>22</td>\n",
       "      <td>Yes</td>\n",
       "      <td>Yes</td>\n",
       "      <td>Fiber optic</td>\n",
       "      <td>No</td>\n",
       "      <td>...</td>\n",
       "      <td>No</td>\n",
       "      <td>No</td>\n",
       "      <td>Yes</td>\n",
       "      <td>No</td>\n",
       "      <td>Month-to-month</td>\n",
       "      <td>Yes</td>\n",
       "      <td>Credit card (automatic)</td>\n",
       "      <td>89.10</td>\n",
       "      <td>1949.40</td>\n",
       "      <td>No</td>\n",
       "    </tr>\n",
       "    <tr>\n",
       "      <th>7</th>\n",
       "      <td>6713-OKOMC</td>\n",
       "      <td>Female</td>\n",
       "      <td>0</td>\n",
       "      <td>No</td>\n",
       "      <td>No</td>\n",
       "      <td>10</td>\n",
       "      <td>No</td>\n",
       "      <td>No phone service</td>\n",
       "      <td>DSL</td>\n",
       "      <td>Yes</td>\n",
       "      <td>...</td>\n",
       "      <td>No</td>\n",
       "      <td>No</td>\n",
       "      <td>No</td>\n",
       "      <td>No</td>\n",
       "      <td>Month-to-month</td>\n",
       "      <td>No</td>\n",
       "      <td>Mailed check</td>\n",
       "      <td>29.75</td>\n",
       "      <td>301.90</td>\n",
       "      <td>No</td>\n",
       "    </tr>\n",
       "    <tr>\n",
       "      <th>8</th>\n",
       "      <td>7892-POOKP</td>\n",
       "      <td>Female</td>\n",
       "      <td>0</td>\n",
       "      <td>Yes</td>\n",
       "      <td>No</td>\n",
       "      <td>28</td>\n",
       "      <td>Yes</td>\n",
       "      <td>Yes</td>\n",
       "      <td>Fiber optic</td>\n",
       "      <td>No</td>\n",
       "      <td>...</td>\n",
       "      <td>Yes</td>\n",
       "      <td>Yes</td>\n",
       "      <td>Yes</td>\n",
       "      <td>Yes</td>\n",
       "      <td>Month-to-month</td>\n",
       "      <td>Yes</td>\n",
       "      <td>Electronic check</td>\n",
       "      <td>104.80</td>\n",
       "      <td>3046.05</td>\n",
       "      <td>Yes</td>\n",
       "    </tr>\n",
       "    <tr>\n",
       "      <th>9</th>\n",
       "      <td>6388-TABGU</td>\n",
       "      <td>Male</td>\n",
       "      <td>0</td>\n",
       "      <td>No</td>\n",
       "      <td>Yes</td>\n",
       "      <td>62</td>\n",
       "      <td>Yes</td>\n",
       "      <td>No</td>\n",
       "      <td>DSL</td>\n",
       "      <td>Yes</td>\n",
       "      <td>...</td>\n",
       "      <td>No</td>\n",
       "      <td>No</td>\n",
       "      <td>No</td>\n",
       "      <td>No</td>\n",
       "      <td>One year</td>\n",
       "      <td>No</td>\n",
       "      <td>Bank transfer (automatic)</td>\n",
       "      <td>56.15</td>\n",
       "      <td>3487.95</td>\n",
       "      <td>No</td>\n",
       "    </tr>\n",
       "  </tbody>\n",
       "</table>\n",
       "<p>10 rows × 21 columns</p>\n",
       "</div>"
      ],
      "text/plain": [
       "   customerID  gender  SeniorCitizen Partner Dependents  tenure PhoneService  \\\n",
       "0  7590-VHVEG  Female              0     Yes         No       1           No   \n",
       "1  5575-GNVDE    Male              0      No         No      34          Yes   \n",
       "2  3668-QPYBK    Male              0      No         No       2          Yes   \n",
       "3  7795-CFOCW    Male              0      No         No      45           No   \n",
       "4  9237-HQITU  Female              0      No         No       2          Yes   \n",
       "5  9305-CDSKC  Female              0      No         No       8          Yes   \n",
       "6  1452-KIOVK    Male              0      No        Yes      22          Yes   \n",
       "7  6713-OKOMC  Female              0      No         No      10           No   \n",
       "8  7892-POOKP  Female              0     Yes         No      28          Yes   \n",
       "9  6388-TABGU    Male              0      No        Yes      62          Yes   \n",
       "\n",
       "      MultipleLines InternetService OnlineSecurity  ... DeviceProtection  \\\n",
       "0  No phone service             DSL             No  ...               No   \n",
       "1                No             DSL            Yes  ...              Yes   \n",
       "2                No             DSL            Yes  ...               No   \n",
       "3  No phone service             DSL            Yes  ...              Yes   \n",
       "4                No     Fiber optic             No  ...               No   \n",
       "5               Yes     Fiber optic             No  ...              Yes   \n",
       "6               Yes     Fiber optic             No  ...               No   \n",
       "7  No phone service             DSL            Yes  ...               No   \n",
       "8               Yes     Fiber optic             No  ...              Yes   \n",
       "9                No             DSL            Yes  ...               No   \n",
       "\n",
       "  TechSupport StreamingTV StreamingMovies        Contract PaperlessBilling  \\\n",
       "0          No          No              No  Month-to-month              Yes   \n",
       "1          No          No              No        One year               No   \n",
       "2          No          No              No  Month-to-month              Yes   \n",
       "3         Yes          No              No        One year               No   \n",
       "4          No          No              No  Month-to-month              Yes   \n",
       "5          No         Yes             Yes  Month-to-month              Yes   \n",
       "6          No         Yes              No  Month-to-month              Yes   \n",
       "7          No          No              No  Month-to-month               No   \n",
       "8         Yes         Yes             Yes  Month-to-month              Yes   \n",
       "9          No          No              No        One year               No   \n",
       "\n",
       "               PaymentMethod MonthlyCharges  TotalCharges  Churn  \n",
       "0           Electronic check          29.85         29.85     No  \n",
       "1               Mailed check          56.95       1889.50     No  \n",
       "2               Mailed check          53.85        108.15    Yes  \n",
       "3  Bank transfer (automatic)          42.30       1840.75     No  \n",
       "4           Electronic check          70.70        151.65    Yes  \n",
       "5           Electronic check          99.65        820.50    Yes  \n",
       "6    Credit card (automatic)          89.10       1949.40     No  \n",
       "7               Mailed check          29.75        301.90     No  \n",
       "8           Electronic check         104.80       3046.05    Yes  \n",
       "9  Bank transfer (automatic)          56.15       3487.95     No  \n",
       "\n",
       "[10 rows x 21 columns]"
      ]
     },
     "execution_count": 26,
     "metadata": {},
     "output_type": "execute_result"
    }
   ],
   "source": [
    "df.head(10)"
   ]
  },
  {
   "cell_type": "code",
   "execution_count": 27,
   "id": "13d8180e-fecf-4bfa-a660-48083fa04a1d",
   "metadata": {},
   "outputs": [
    {
     "name": "stdout",
     "output_type": "stream",
     "text": [
      "<class 'pandas.core.frame.DataFrame'>\n",
      "RangeIndex: 7043 entries, 0 to 7042\n",
      "Data columns (total 21 columns):\n",
      " #   Column            Non-Null Count  Dtype  \n",
      "---  ------            --------------  -----  \n",
      " 0   customerID        7043 non-null   object \n",
      " 1   gender            7043 non-null   object \n",
      " 2   SeniorCitizen     7043 non-null   int64  \n",
      " 3   Partner           7043 non-null   object \n",
      " 4   Dependents        7043 non-null   object \n",
      " 5   tenure            7043 non-null   int64  \n",
      " 6   PhoneService      7043 non-null   object \n",
      " 7   MultipleLines     7043 non-null   object \n",
      " 8   InternetService   7043 non-null   object \n",
      " 9   OnlineSecurity    7043 non-null   object \n",
      " 10  OnlineBackup      7043 non-null   object \n",
      " 11  DeviceProtection  7043 non-null   object \n",
      " 12  TechSupport       7043 non-null   object \n",
      " 13  StreamingTV       7043 non-null   object \n",
      " 14  StreamingMovies   7043 non-null   object \n",
      " 15  Contract          7043 non-null   object \n",
      " 16  PaperlessBilling  7043 non-null   object \n",
      " 17  PaymentMethod     7043 non-null   object \n",
      " 18  MonthlyCharges    7043 non-null   float64\n",
      " 19  TotalCharges      7032 non-null   float64\n",
      " 20  Churn             7043 non-null   object \n",
      "dtypes: float64(2), int64(2), object(17)\n",
      "memory usage: 1.1+ MB\n"
     ]
    }
   ],
   "source": [
    "df.info()"
   ]
  },
  {
   "cell_type": "code",
   "execution_count": 28,
   "id": "89c906ed-4c14-4857-bed9-785da7b9affb",
   "metadata": {},
   "outputs": [
    {
     "data": {
      "text/html": [
       "<div>\n",
       "<style scoped>\n",
       "    .dataframe tbody tr th:only-of-type {\n",
       "        vertical-align: middle;\n",
       "    }\n",
       "\n",
       "    .dataframe tbody tr th {\n",
       "        vertical-align: top;\n",
       "    }\n",
       "\n",
       "    .dataframe thead th {\n",
       "        text-align: right;\n",
       "    }\n",
       "</style>\n",
       "<table border=\"1\" class=\"dataframe\">\n",
       "  <thead>\n",
       "    <tr style=\"text-align: right;\">\n",
       "      <th></th>\n",
       "      <th>SeniorCitizen</th>\n",
       "      <th>tenure</th>\n",
       "      <th>MonthlyCharges</th>\n",
       "      <th>TotalCharges</th>\n",
       "    </tr>\n",
       "  </thead>\n",
       "  <tbody>\n",
       "    <tr>\n",
       "      <th>count</th>\n",
       "      <td>7043.000000</td>\n",
       "      <td>7043.000000</td>\n",
       "      <td>7043.000000</td>\n",
       "      <td>7032.000000</td>\n",
       "    </tr>\n",
       "    <tr>\n",
       "      <th>mean</th>\n",
       "      <td>0.162147</td>\n",
       "      <td>32.371149</td>\n",
       "      <td>64.761692</td>\n",
       "      <td>2283.300441</td>\n",
       "    </tr>\n",
       "    <tr>\n",
       "      <th>std</th>\n",
       "      <td>0.368612</td>\n",
       "      <td>24.559481</td>\n",
       "      <td>30.090047</td>\n",
       "      <td>2266.771362</td>\n",
       "    </tr>\n",
       "    <tr>\n",
       "      <th>min</th>\n",
       "      <td>0.000000</td>\n",
       "      <td>0.000000</td>\n",
       "      <td>18.250000</td>\n",
       "      <td>18.800000</td>\n",
       "    </tr>\n",
       "    <tr>\n",
       "      <th>25%</th>\n",
       "      <td>0.000000</td>\n",
       "      <td>9.000000</td>\n",
       "      <td>35.500000</td>\n",
       "      <td>401.450000</td>\n",
       "    </tr>\n",
       "    <tr>\n",
       "      <th>50%</th>\n",
       "      <td>0.000000</td>\n",
       "      <td>29.000000</td>\n",
       "      <td>70.350000</td>\n",
       "      <td>1397.475000</td>\n",
       "    </tr>\n",
       "    <tr>\n",
       "      <th>75%</th>\n",
       "      <td>0.000000</td>\n",
       "      <td>55.000000</td>\n",
       "      <td>89.850000</td>\n",
       "      <td>3794.737500</td>\n",
       "    </tr>\n",
       "    <tr>\n",
       "      <th>max</th>\n",
       "      <td>1.000000</td>\n",
       "      <td>72.000000</td>\n",
       "      <td>118.750000</td>\n",
       "      <td>8684.800000</td>\n",
       "    </tr>\n",
       "  </tbody>\n",
       "</table>\n",
       "</div>"
      ],
      "text/plain": [
       "       SeniorCitizen       tenure  MonthlyCharges  TotalCharges\n",
       "count    7043.000000  7043.000000     7043.000000   7032.000000\n",
       "mean        0.162147    32.371149       64.761692   2283.300441\n",
       "std         0.368612    24.559481       30.090047   2266.771362\n",
       "min         0.000000     0.000000       18.250000     18.800000\n",
       "25%         0.000000     9.000000       35.500000    401.450000\n",
       "50%         0.000000    29.000000       70.350000   1397.475000\n",
       "75%         0.000000    55.000000       89.850000   3794.737500\n",
       "max         1.000000    72.000000      118.750000   8684.800000"
      ]
     },
     "execution_count": 28,
     "metadata": {},
     "output_type": "execute_result"
    }
   ],
   "source": [
    "df.describe()"
   ]
  },
  {
   "cell_type": "code",
   "execution_count": 59,
   "id": "0b44e462-8894-4f00-a171-a8f11242e047",
   "metadata": {},
   "outputs": [],
   "source": [
    "#indentifying and handling null values and outliers."
   ]
  },
  {
   "cell_type": "code",
   "execution_count": 29,
   "id": "5b8f4260-c3fb-412b-8992-b550856c9e14",
   "metadata": {},
   "outputs": [
    {
     "data": {
      "text/plain": [
       "customerID           0\n",
       "gender               0\n",
       "SeniorCitizen        0\n",
       "Partner              0\n",
       "Dependents           0\n",
       "tenure               0\n",
       "PhoneService         0\n",
       "MultipleLines        0\n",
       "InternetService      0\n",
       "OnlineSecurity       0\n",
       "OnlineBackup         0\n",
       "DeviceProtection     0\n",
       "TechSupport          0\n",
       "StreamingTV          0\n",
       "StreamingMovies      0\n",
       "Contract             0\n",
       "PaperlessBilling     0\n",
       "PaymentMethod        0\n",
       "MonthlyCharges       0\n",
       "TotalCharges        11\n",
       "Churn                0\n",
       "dtype: int64"
      ]
     },
     "execution_count": 29,
     "metadata": {},
     "output_type": "execute_result"
    }
   ],
   "source": [
    "df.isnull().sum()"
   ]
  },
  {
   "cell_type": "code",
   "execution_count": 30,
   "id": "224e59e0-5574-484d-83f2-c83d440c73ca",
   "metadata": {},
   "outputs": [],
   "source": [
    "df['TotalCharges'] = pd.to_numeric(df['TotalCharges'], errors='coerce')\n",
    "df['TotalCharges'] = df['TotalCharges'].fillna(df['TotalCharges'].median())"
   ]
  },
  {
   "cell_type": "code",
   "execution_count": 31,
   "id": "266fd962-f043-4f8a-9b3f-a4434395fad1",
   "metadata": {},
   "outputs": [
    {
     "data": {
      "text/plain": [
       "0"
      ]
     },
     "execution_count": 31,
     "metadata": {},
     "output_type": "execute_result"
    }
   ],
   "source": [
    "df['TotalCharges'].isnull().sum()"
   ]
  },
  {
   "cell_type": "code",
   "execution_count": 32,
   "id": "9ae28518-067b-42fd-a380-7ca0af1cd506",
   "metadata": {},
   "outputs": [
    {
     "data": {
      "image/png": "[encoded data removed]",
      "text/plain": [
       "<Figure size 640x480 with 1 Axes>"
      ]
     },
     "metadata": {},
     "output_type": "display_data"
    }
   ],
   "source": [
    "import seaborn as sns\n",
    "import matplotlib.pyplot as plt\n",
    "\n",
    "sns.boxplot(x=df['TotalCharges'])\n",
    "plt.show()"
   ]
  },
  {
   "cell_type": "code",
   "execution_count": null,
   "id": "7ddbd60b-2549-4e3a-9b2a-764b3579cae5",
   "metadata": {},
   "outputs": [],
   "source": [
    "#feature engineering: AvgMonthlySpend and TenureGroup"
   ]
  },
  {
   "cell_type": "code",
   "execution_count": 33,
   "id": "45408cca-a5b4-4cc2-9117-5e6038571243",
   "metadata": {},
   "outputs": [],
   "source": [
    "df['AvgMonthlySpend'] = df['TotalCharges'] / (df['tenure'] + 1) "
   ]
  },
  {
   "cell_type": "code",
   "execution_count": 34,
   "id": "3b65aaee-07e8-4caf-bd77-6fd33a818c31",
   "metadata": {},
   "outputs": [
    {
     "data": {
      "text/html": [
       "<div>\n",
       "<style scoped>\n",
       "    .dataframe tbody tr th:only-of-type {\n",
       "        vertical-align: middle;\n",
       "    }\n",
       "\n",
       "    .dataframe tbody tr th {\n",
       "        vertical-align: top;\n",
       "    }\n",
       "\n",
       "    .dataframe thead th {\n",
       "        text-align: right;\n",
       "    }\n",
       "</style>\n",
       "<table border=\"1\" class=\"dataframe\">\n",
       "  <thead>\n",
       "    <tr style=\"text-align: right;\">\n",
       "      <th></th>\n",
       "      <th>AvgMonthlySpend</th>\n",
       "    </tr>\n",
       "  </thead>\n",
       "  <tbody>\n",
       "    <tr>\n",
       "      <th>0</th>\n",
       "      <td>14.925000</td>\n",
       "    </tr>\n",
       "    <tr>\n",
       "      <th>1</th>\n",
       "      <td>53.985714</td>\n",
       "    </tr>\n",
       "    <tr>\n",
       "      <th>2</th>\n",
       "      <td>36.050000</td>\n",
       "    </tr>\n",
       "    <tr>\n",
       "      <th>3</th>\n",
       "      <td>40.016304</td>\n",
       "    </tr>\n",
       "    <tr>\n",
       "      <th>4</th>\n",
       "      <td>50.550000</td>\n",
       "    </tr>\n",
       "    <tr>\n",
       "      <th>...</th>\n",
       "      <td>...</td>\n",
       "    </tr>\n",
       "    <tr>\n",
       "      <th>7038</th>\n",
       "      <td>79.620000</td>\n",
       "    </tr>\n",
       "    <tr>\n",
       "      <th>7039</th>\n",
       "      <td>100.861644</td>\n",
       "    </tr>\n",
       "    <tr>\n",
       "      <th>7040</th>\n",
       "      <td>28.870833</td>\n",
       "    </tr>\n",
       "    <tr>\n",
       "      <th>7041</th>\n",
       "      <td>61.320000</td>\n",
       "    </tr>\n",
       "    <tr>\n",
       "      <th>7042</th>\n",
       "      <td>102.156716</td>\n",
       "    </tr>\n",
       "  </tbody>\n",
       "</table>\n",
       "<p>7043 rows × 1 columns</p>\n",
       "</div>"
      ],
      "text/plain": [
       "      AvgMonthlySpend\n",
       "0           14.925000\n",
       "1           53.985714\n",
       "2           36.050000\n",
       "3           40.016304\n",
       "4           50.550000\n",
       "...               ...\n",
       "7038        79.620000\n",
       "7039       100.861644\n",
       "7040        28.870833\n",
       "7041        61.320000\n",
       "7042       102.156716\n",
       "\n",
       "[7043 rows x 1 columns]"
      ]
     },
     "execution_count": 34,
     "metadata": {},
     "output_type": "execute_result"
    }
   ],
   "source": [
    "df[['AvgMonthlySpend']]"
   ]
  },
  {
   "cell_type": "code",
   "execution_count": 35,
   "id": "ac93f00a-15cf-44ff-94f5-855cbd2f2054",
   "metadata": {},
   "outputs": [],
   "source": [
    "def tenure_group(tenure):\n",
    "    if tenure <= 12:\n",
    "        return 'New'\n",
    "    elif tenure <= 24:\n",
    "        return '1-2 yrs'\n",
    "    elif tenure <= 48:\n",
    "        return '2-4 yrs'\n",
    "    else:\n",
    "        return 'Loyal'\n",
    "\n",
    "df['TenureGroup'] = df['tenure'].apply(tenure_group)"
   ]
  },
  {
   "cell_type": "code",
   "execution_count": 36,
   "id": "f92b0ee0-3901-4f19-80c3-61b627bc10e6",
   "metadata": {},
   "outputs": [
    {
     "data": {
      "text/html": [
       "<div>\n",
       "<style scoped>\n",
       "    .dataframe tbody tr th:only-of-type {\n",
       "        vertical-align: middle;\n",
       "    }\n",
       "\n",
       "    .dataframe tbody tr th {\n",
       "        vertical-align: top;\n",
       "    }\n",
       "\n",
       "    .dataframe thead th {\n",
       "        text-align: right;\n",
       "    }\n",
       "</style>\n",
       "<table border=\"1\" class=\"dataframe\">\n",
       "  <thead>\n",
       "    <tr style=\"text-align: right;\">\n",
       "      <th></th>\n",
       "      <th>TenureGroup</th>\n",
       "    </tr>\n",
       "  </thead>\n",
       "  <tbody>\n",
       "    <tr>\n",
       "      <th>0</th>\n",
       "      <td>New</td>\n",
       "    </tr>\n",
       "    <tr>\n",
       "      <th>1</th>\n",
       "      <td>2-4 yrs</td>\n",
       "    </tr>\n",
       "    <tr>\n",
       "      <th>2</th>\n",
       "      <td>New</td>\n",
       "    </tr>\n",
       "    <tr>\n",
       "      <th>3</th>\n",
       "      <td>2-4 yrs</td>\n",
       "    </tr>\n",
       "    <tr>\n",
       "      <th>4</th>\n",
       "      <td>New</td>\n",
       "    </tr>\n",
       "    <tr>\n",
       "      <th>...</th>\n",
       "      <td>...</td>\n",
       "    </tr>\n",
       "    <tr>\n",
       "      <th>7038</th>\n",
       "      <td>1-2 yrs</td>\n",
       "    </tr>\n",
       "    <tr>\n",
       "      <th>7039</th>\n",
       "      <td>Loyal</td>\n",
       "    </tr>\n",
       "    <tr>\n",
       "      <th>7040</th>\n",
       "      <td>New</td>\n",
       "    </tr>\n",
       "    <tr>\n",
       "      <th>7041</th>\n",
       "      <td>New</td>\n",
       "    </tr>\n",
       "    <tr>\n",
       "      <th>7042</th>\n",
       "      <td>Loyal</td>\n",
       "    </tr>\n",
       "  </tbody>\n",
       "</table>\n",
       "<p>7043 rows × 1 columns</p>\n",
       "</div>"
      ],
      "text/plain": [
       "     TenureGroup\n",
       "0            New\n",
       "1        2-4 yrs\n",
       "2            New\n",
       "3        2-4 yrs\n",
       "4            New\n",
       "...          ...\n",
       "7038     1-2 yrs\n",
       "7039       Loyal\n",
       "7040         New\n",
       "7041         New\n",
       "7042       Loyal\n",
       "\n",
       "[7043 rows x 1 columns]"
      ]
     },
     "execution_count": 36,
     "metadata": {},
     "output_type": "execute_result"
    }
   ],
   "source": [
    "df[['TenureGroup']]"
   ]
  },
  {
   "cell_type": "code",
   "execution_count": 37,
   "id": "52e04d14-1f04-40d2-9ca9-eb16c3ca9922",
   "metadata": {},
   "outputs": [],
   "source": [
    "df['Churn'] = df['Churn'].map({'Yes': 1, 'No': 0})"
   ]
  },
  {
   "cell_type": "code",
   "execution_count": 38,
   "id": "8191c00a-abc1-402a-9dab-8cd9a5294ee6",
   "metadata": {},
   "outputs": [
    {
     "name": "stdout",
     "output_type": "stream",
     "text": [
      "int64\n"
     ]
    }
   ],
   "source": [
    "print(df['Churn'].dtype) "
   ]
  },
  {
   "cell_type": "code",
   "execution_count": null,
   "id": "a2f1cb1f-837c-4ba9-a403-8f638227ef1e",
   "metadata": {},
   "outputs": [],
   "source": [
    "#data encoding"
   ]
  },
  {
   "cell_type": "code",
   "execution_count": 39,
   "id": "3102614e-c449-4b06-b7cc-d0ce8c256ae9",
   "metadata": {},
   "outputs": [],
   "source": [
    "model_features = [\n",
    "    # Demographics\n",
    "    'gender', 'SeniorCitizen', 'Partner', 'Dependents',\n",
    "\n",
    "    # Account Info\n",
    "    'tenure', 'Contract', 'PaperlessBilling', 'PaymentMethod',\n",
    "\n",
    "    # Services\n",
    "    'PhoneService', 'MultipleLines', 'InternetService',\n",
    "    'OnlineSecurity', 'OnlineBackup', 'DeviceProtection',\n",
    "    'TechSupport', 'StreamingTV', 'StreamingMovies',\n",
    "\n",
    "    # Charges\n",
    "    'MonthlyCharges', 'TotalCharges', 'AvgMonthlySpend',\n",
    "\n",
    "    # Engineered\n",
    "    'TenureGroup'\n",
    "]"
   ]
  },
  {
   "cell_type": "code",
   "execution_count": 40,
   "id": "23716738-1000-493b-894e-23337b64d48d",
   "metadata": {},
   "outputs": [],
   "source": [
    "from sklearn.preprocessing import LabelEncoder\n",
    "df_model = df[model_features + ['Churn']].copy()\n",
    "label_cols = ['Partner', 'Dependents', 'PhoneService', 'MultipleLines', 'OnlineSecurity', 'OnlineBackup',\n",
    "              'DeviceProtection', 'TechSupport', 'StreamingTV', 'StreamingMovies', 'PaperlessBilling']\n",
    "le = LabelEncoder()\n",
    "for col in label_cols:\n",
    "    df_model[col] = le.fit_transform(df_model[col])"
   ]
  },
  {
   "cell_type": "code",
   "execution_count": 41,
   "id": "c46e710c-ce68-4932-b430-027af6c5ecfe",
   "metadata": {},
   "outputs": [],
   "source": [
    "df_model = pd.get_dummies(df_model, columns=['gender', 'Contract', 'PaymentMethod', 'InternetService', 'TenureGroup'], drop_first=True)"
   ]
  },
  {
   "cell_type": "code",
   "execution_count": 42,
   "id": "20417d4c-b38f-41d5-831b-294f1ef08348",
   "metadata": {},
   "outputs": [
    {
     "name": "stdout",
     "output_type": "stream",
     "text": [
      "<class 'pandas.core.frame.DataFrame'>\n",
      "RangeIndex: 7043 entries, 0 to 7042\n",
      "Data columns (total 28 columns):\n",
      " #   Column                                 Non-Null Count  Dtype  \n",
      "---  ------                                 --------------  -----  \n",
      " 0   SeniorCitizen                          7043 non-null   int64  \n",
      " 1   Partner                                7043 non-null   int32  \n",
      " 2   Dependents                             7043 non-null   int32  \n",
      " 3   tenure                                 7043 non-null   int64  \n",
      " 4   PaperlessBilling                       7043 non-null   int32  \n",
      " 5   PhoneService                           7043 non-null   int32  \n",
      " 6   MultipleLines                          7043 non-null   int32  \n",
      " 7   OnlineSecurity                         7043 non-null   int32  \n",
      " 8   OnlineBackup                           7043 non-null   int32  \n",
      " 9   DeviceProtection                       7043 non-null   int32  \n",
      " 10  TechSupport                            7043 non-null   int32  \n",
      " 11  StreamingTV                            7043 non-null   int32  \n",
      " 12  StreamingMovies                        7043 non-null   int32  \n",
      " 13  MonthlyCharges                         7043 non-null   float64\n",
      " 14  TotalCharges                           7043 non-null   float64\n",
      " 15  AvgMonthlySpend                        7043 non-null   float64\n",
      " 16  Churn                                  7043 non-null   int64  \n",
      " 17  gender_Male                            7043 non-null   bool   \n",
      " 18  Contract_One year                      7043 non-null   bool   \n",
      " 19  Contract_Two year                      7043 non-null   bool   \n",
      " 20  PaymentMethod_Credit card (automatic)  7043 non-null   bool   \n",
      " 21  PaymentMethod_Electronic check         7043 non-null   bool   \n",
      " 22  PaymentMethod_Mailed check             7043 non-null   bool   \n",
      " 23  InternetService_Fiber optic            7043 non-null   bool   \n",
      " 24  InternetService_No                     7043 non-null   bool   \n",
      " 25  TenureGroup_2-4 yrs                    7043 non-null   bool   \n",
      " 26  TenureGroup_Loyal                      7043 non-null   bool   \n",
      " 27  TenureGroup_New                        7043 non-null   bool   \n",
      "dtypes: bool(11), float64(3), int32(11), int64(3)\n",
      "memory usage: 708.6 KB\n"
     ]
    }
   ],
   "source": [
    "df_model.info()"
   ]
  },
  {
   "cell_type": "code",
   "execution_count": null,
   "id": "d2a13f50-8ae8-41f8-82ea-1452e3ca6128",
   "metadata": {},
   "outputs": [],
   "source": [
    "#scaling data: To standardize or normalise numeric feature."
   ]
  },
  {
   "cell_type": "code",
   "execution_count": 43,
   "id": "9b5972c7-7174-41a2-844f-9802995b0e04",
   "metadata": {},
   "outputs": [],
   "source": [
    "from sklearn.preprocessing import StandardScaler\n",
    "\n",
    "scaler = StandardScaler()\n",
    "scale_cols = ['tenure', 'MonthlyCharges', 'TotalCharges', 'AvgMonthlySpend']\n",
    "df[scale_cols] = scaler.fit_transform(df[scale_cols])"
   ]
  },
  {
   "cell_type": "code",
   "execution_count": 44,
   "id": "631cb4e3-f13d-4bda-9ffc-1909770ab5ab",
   "metadata": {},
   "outputs": [],
   "source": [
    "from sklearn.model_selection import train_test_split\n",
    "X = df_model.drop('Churn', axis=1)\n",
    "y = df_model['Churn']\n",
    "X_train, X_test, y_train, y_test = train_test_split(X, y, test_size=0.2, random_state=42)"
   ]
  },
  {
   "cell_type": "markdown",
   "id": "d1df7293-da7a-41c9-83e5-a0fa11733d91",
   "metadata": {},
   "source": [
    "<h1>Logistic Regression</h1>"
   ]
  },
  {
   "cell_type": "code",
   "execution_count": 45,
   "id": "9d5a2f73-bedd-4c4b-a07b-13b5b79f46fa",
   "metadata": {},
   "outputs": [
    {
     "name": "stdout",
     "output_type": "stream",
     "text": [
      "Logistic Regression Accuracy: 81.05%\n",
      "\n",
      "Logistic Regression Classification Report:\n",
      "               precision    recall  f1-score   support\n",
      "\n",
      "           0       0.85      0.91      0.88      1036\n",
      "           1       0.68      0.54      0.60       373\n",
      "\n",
      "    accuracy                           0.81      1409\n",
      "   macro avg       0.76      0.72      0.74      1409\n",
      "weighted avg       0.80      0.81      0.80      1409\n",
      "\n"
     ]
    }
   ],
   "source": [
    "from sklearn.linear_model import LogisticRegression\n",
    "from sklearn.metrics import accuracy_score, classification_report\n",
    "\n",
    "logreg = LogisticRegression(max_iter=5000)\n",
    "logreg.fit(X_train, y_train)\n",
    "logreg_pred = logreg.predict(X_test)\n",
    "logreg_accuracy = accuracy_score(y_test, logreg_pred)\n",
    "\n",
    "print(f'Logistic Regression Accuracy: {logreg_accuracy * 100:.2f}%')\n",
    "print('\\nLogistic Regression Classification Report:\\n', classification_report(y_test, logreg_pred))"
   ]
  },
  {
   "cell_type": "markdown",
   "id": "2a01a395-b23a-4932-8658-ee9e41a514c0",
   "metadata": {},
   "source": [
    "<h2>K-Nearest Neighbors (KNN)</h2>"
   ]
  },
  {
   "cell_type": "code",
   "execution_count": 60,
   "id": "fda8447c-e475-4c9c-abca-4557d0d81e20",
   "metadata": {},
   "outputs": [
    {
     "name": "stdout",
     "output_type": "stream",
     "text": [
      "K-Nearest Neighbors Accuracy: 77.79%\n",
      "\n",
      "KNN Classification Report:\n",
      "               precision    recall  f1-score   support\n",
      "\n",
      "           0       0.83      0.88      0.85      1036\n",
      "           1       0.60      0.48      0.53       373\n",
      "\n",
      "    accuracy                           0.78      1409\n",
      "   macro avg       0.71      0.68      0.69      1409\n",
      "weighted avg       0.77      0.78      0.77      1409\n",
      "\n"
     ]
    }
   ],
   "source": [
    "from sklearn.neighbors import KNeighborsClassifier\n",
    "\n",
    "knn = KNeighborsClassifier(n_neighbors=5)\n",
    "knn.fit(X_train, y_train)\n",
    "knn_pred = knn.predict(X_test)\n",
    "knn_accuracy = accuracy_score(y_test, knn_pred)\n",
    "\n",
    "print(f'K-Nearest Neighbors Accuracy: {knn_accuracy * 100:.2f}%')\n",
    "print('\\nKNN Classification Report:\\n', classification_report(y_test, knn_pred))"
   ]
  },
  {
   "cell_type": "markdown",
   "id": "8edb2439-2cad-4674-82de-41ac5cdacf45",
   "metadata": {},
   "source": [
    "<h3> Decision Tree</h3>"
   ]
  },
  {
   "cell_type": "code",
   "execution_count": 47,
   "id": "06e9411a-8fbe-4e97-b378-a4b0c924aa97",
   "metadata": {},
   "outputs": [
    {
     "name": "stdout",
     "output_type": "stream",
     "text": [
      "Decision Tree Accuracy: 73.31%\n",
      "\n",
      "Decision Tree Classification Report:\n",
      "               precision    recall  f1-score   support\n",
      "\n",
      "           0       0.81      0.83      0.82      1036\n",
      "           1       0.50      0.47      0.48       373\n",
      "\n",
      "    accuracy                           0.73      1409\n",
      "   macro avg       0.65      0.65      0.65      1409\n",
      "weighted avg       0.73      0.73      0.73      1409\n",
      "\n"
     ]
    }
   ],
   "source": [
    "from sklearn.tree import DecisionTreeClassifier\n",
    "\n",
    "decision_tree = DecisionTreeClassifier(random_state=42)\n",
    "decision_tree.fit(X_train, y_train)\n",
    "decision_tree_pred = decision_tree.predict(X_test)\n",
    "decision_tree_accuracy = accuracy_score(y_test, decision_tree_pred)\n",
    "\n",
    "print(f'Decision Tree Accuracy: {decision_tree_accuracy * 100:.2f}%')\n",
    "print('\\nDecision Tree Classification Report:\\n', classification_report(y_test, decision_tree_pred))"
   ]
  },
  {
   "cell_type": "markdown",
   "id": "79da70d2-18e2-419f-8545-61dcc5d0a237",
   "metadata": {},
   "source": [
    "<h4>Support Vector Machine (SVM)</h4>"
   ]
  },
  {
   "cell_type": "code",
   "execution_count": 48,
   "id": "136f8eaf-d0c6-4e7a-8053-69aa8af15cc6",
   "metadata": {},
   "outputs": [
    {
     "name": "stdout",
     "output_type": "stream",
     "text": [
      "Support Vector Machine Accuracy: 73.53%\n",
      "\n",
      "SVM Classification Report:\n",
      "               precision    recall  f1-score   support\n",
      "\n",
      "           0       0.74      1.00      0.85      1036\n",
      "           1       0.00      0.00      0.00       373\n",
      "\n",
      "    accuracy                           0.74      1409\n",
      "   macro avg       0.37      0.50      0.42      1409\n",
      "weighted avg       0.54      0.74      0.62      1409\n",
      "\n"
     ]
    }
   ],
   "source": [
    "from sklearn.svm import SVC\n",
    "\n",
    "# Support Vector Machine\n",
    "svm = SVC()\n",
    "svm.fit(X_train, y_train)\n",
    "svm_pred = svm.predict(X_test)\n",
    "svm_accuracy = accuracy_score(y_test, svm_pred)\n",
    "\n",
    "print(f'Support Vector Machine Accuracy: {svm_accuracy * 100:.2f}%')\n",
    "print('\\nSVM Classification Report:\\n', classification_report(y_test, svm_pred,zero_division=0))"
   ]
  },
  {
   "cell_type": "markdown",
   "id": "9f05d1be-cb41-4447-9089-6c8806303c6d",
   "metadata": {},
   "source": [
    " <h4>Model Accuracy Comparison</h4>"
   ]
  },
  {
   "cell_type": "code",
   "execution_count": 49,
   "id": "1a55afea-ecb6-487c-8c44-cea65502a9da",
   "metadata": {},
   "outputs": [
    {
     "name": "stdout",
     "output_type": "stream",
     "text": [
      "Logistic Regression Accuracy: 81.05%\n",
      "K-Nearest Neighbors Accuracy: 77.79%\n",
      "Decision Tree Accuracy: 73.31%\n",
      "Support Vector Machine Accuracy: 73.53%\n"
     ]
    }
   ],
   "source": [
    "model_accuracies = {\n",
    "    'Logistic Regression': logreg_accuracy,\n",
    "    'K-Nearest Neighbors': knn_accuracy,\n",
    "    'Decision Tree': decision_tree_accuracy,\n",
    "    'Support Vector Machine': svm_accuracy\n",
    "}\n",
    "\n",
    "for model, acc in model_accuracies.items():\n",
    "    print(f'{model} Accuracy: {acc * 100:.2f}%')"
   ]
  },
  {
   "cell_type": "markdown",
   "id": "3d3199d1-16af-4455-a136-4f1a274ccf7f",
   "metadata": {},
   "source": [
    "We trained and evaluated multiple models to predict customer churn. Logistic Regression gave the highest accuracy (81.05%) and interpretable results. Based on model outputs, we identified key churn indicators and proposed actionable business strategies. The model is now ready to make predictions on new customer data, helping the company reduce churn and improve retention."
   ]
  },
  {
   "cell_type": "markdown",
   "id": "8fc0951d-04ae-4e16-9fec-ca0fd1f9a55f",
   "metadata": {},
   "source": [
    "<h5>Model Interpretation and Findings</h5>"
   ]
  },
  {
   "cell_type": "code",
   "execution_count": 50,
   "id": "bcca223d-9ab9-4e8c-b897-24f2c12ce163",
   "metadata": {},
   "outputs": [
    {
     "name": "stdout",
     "output_type": "stream",
     "text": [
      "Features increasing churn:\n",
      "InternetService_Fiber optic       0.706834\n",
      "TenureGroup_Loyal                 0.476856\n",
      "PaperlessBilling                  0.348267\n",
      "PaymentMethod_Electronic check    0.266737\n",
      "TenureGroup_2-4 yrs               0.230706\n",
      "dtype: float64\n",
      "Features reducing churn:\n",
      "Contract_Two year    -1.579196\n",
      "Contract_One year    -0.683053\n",
      "PhoneService         -0.569300\n",
      "InternetService_No   -0.305062\n",
      "OnlineSecurity       -0.200802\n",
      "dtype: float64\n"
     ]
    }
   ],
   "source": [
    "import pandas as pd\n",
    "\n",
    "# Get coefficients from Logistic Regression\n",
    "coefs = pd.Series(logreg.coef_[0], index=X_train.columns)\n",
    "\n",
    "# Sort to find strongest predictors\n",
    "print(\"Features increasing churn:\")\n",
    "print(coefs.sort_values(ascending=False).head(5))\n",
    "\n",
    "print(\"Features reducing churn:\")\n",
    "print(coefs.sort_values(ascending=True).head(5))"
   ]
  },
  {
   "cell_type": "markdown",
   "id": "0832fb1f-e540-41b0-b0f8-b2b3447f6b9c",
   "metadata": {},
   "source": [
    "The Logistic Regression model revealed several key features influencing churn. Customers using fiber optic internet, electronic check payments, or having paperless billing were more likely to churn. Interestingly, even mid-to-long-term customers (like those in the 2–4 year group or “loyal” group) showed elevated churn risks, possibly reflecting dissatisfaction over time. On the other hand, customers with long-term contracts (1 or 2 years), phone service, or online security features were significantly less likely to churn. These findings offer actionable business strategies for targeting high-risk users and strengthening retention."
   ]
  },
  {
   "cell_type": "code",
   "execution_count": null,
   "id": "d4fdadc7-1c1b-40f4-8cca-ef111371cb7b",
   "metadata": {},
   "outputs": [],
   "source": [
    "#Get the predictions for the new data."
   ]
  },
  {
   "cell_type": "code",
   "execution_count": 57,
   "id": "138e8571-4518-4276-8514-744ba42fb6da",
   "metadata": {},
   "outputs": [],
   "source": [
    "def predict_churn():\n",
    "    print(\" Enter minimal customer details to predict churn:\")\n",
    "\n",
    "    # Collect only the top features manually\n",
    "    manual_input = {\n",
    "        'InternetService_Fiber optic': int(input(\"Uses Fiber Optic Internet? (1 = Yes, 0 = No): \")),\n",
    "        'TenureGroup_Loyal': int(input(\"Is a Loyal Customer? (1 = Yes, 0 = No): \")),\n",
    "        'PaperlessBilling': int(input(\"Uses Paperless Billing? (1 = Yes, 0 = No): \")),\n",
    "        'PaymentMethod_Electronic check': int(input(\"Pays via Electronic Check? (1 = Yes, 0 = No): \")),\n",
    "        'Contract_Two year': int(input(\"Contract Type is Two Year? (1 = Yes, 0 = No): \")),\n",
    "        'Contract_One year': int(input(\"Contract Type is One Year? (1 = Yes, 0 = No): \")),\n",
    "        'OnlineSecurity': int(input(\"Has Online Security? (1 = Yes, 0 = No): \")),\n",
    "        'PhoneService': int(input(\"Has Phone Service? (1 = Yes, 0 = No): \")),\n",
    "        'MonthlyCharges': float(input(\"Monthly Charges (e.g., 70.50): \"))\n",
    "    }\n",
    "\n",
    "    # Start with all zero features, in exact order as X_train\n",
    "    input_data = {col: 0 for col in X_train.columns}\n",
    "\n",
    "    # Fill the user-provided inputs\n",
    "    for key in manual_input:\n",
    "        input_data[key] = manual_input[key]\n",
    "\n",
    "    # Build input DataFrame in the same column order\n",
    "    import pandas as pd\n",
    "    input_df = pd.DataFrame([input_data])[X_train.columns]\n",
    "\n",
    "    # Predict\n",
    "    churn_prob = logreg.predict_proba(input_df)[:, 1][0]\n",
    "    churn_pred = logreg.predict(input_df)[0]\n",
    "\n",
    "    # Output\n",
    "    print(\"\\n🧾 Prediction Result:\")\n",
    "    print(f\"Churn Probability: {churn_prob:.2f}\")\n",
    "    print(\"Churn Prediction:\", \"Yes \" if churn_pred == 1 else \"No \")"
   ]
  },
  {
   "cell_type": "code",
   "execution_count": 58,
   "id": "549c0d78-7fe3-4099-b5d4-e2967b98e759",
   "metadata": {},
   "outputs": [
    {
     "name": "stdout",
     "output_type": "stream",
     "text": [
      " Enter minimal customer details to predict churn:\n"
     ]
    },
    {
     "name": "stdin",
     "output_type": "stream",
     "text": [
      "Uses Fiber Optic Internet? (1 = Yes, 0 = No):  0\n",
      "Is a Loyal Customer? (1 = Yes, 0 = No):  1\n",
      "Uses Paperless Billing? (1 = Yes, 0 = No):  0\n",
      "Pays via Electronic Check? (1 = Yes, 0 = No):  1\n",
      "Contract Type is Two Year? (1 = Yes, 0 = No):  0\n",
      "Contract Type is One Year? (1 = Yes, 0 = No):  1\n",
      "Has Online Security? (1 = Yes, 0 = No):  0\n",
      "Has Phone Service? (1 = Yes, 0 = No):  0\n",
      "Monthly Charges (e.g., 70.50):  50\n"
     ]
    },
    {
     "name": "stdout",
     "output_type": "stream",
     "text": [
      "\n",
      "🧾 Prediction Result:\n",
      "Churn Probability: 0.78\n",
      "Churn Prediction: Yes \n"
     ]
    }
   ],
   "source": [
    "predict_churn()"
   ]
  },
  {
   "cell_type": "code",
   "execution_count": null,
   "id": "faebb882-c195-4255-b8cd-52067eff4a65",
   "metadata": {},
   "outputs": [],
   "source": []
  }
 ],
 "metadata": {
  "kernelspec": {
   "display_name": "Python [conda env:base] *",
   "language": "python",
   "name": "conda-base-py"
  },
  "language_info": {
   "codemirror_mode": {
    "name": "ipython",
    "version": 3
   },
   "file_extension": ".py",
   "mimetype": "text/x-python",
   "name": "python",
   "nbconvert_exporter": "python",
   "pygments_lexer": "ipython3",
   "version": "3.12.7"
  }
 },
 "nbformat": 4,
 "nbformat_minor": 5
}
